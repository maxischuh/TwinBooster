{
 "cells": [
  {
   "cell_type": "markdown",
   "metadata": {},
   "source": [
    "# TwinBooster\n",
    "\n",
    "## Installation"
   ]
  },
  {
   "cell_type": "code",
   "execution_count": null,
   "metadata": {},
   "outputs": [],
   "source": [
    "!pip install git+https://github.com/maxischuh/TwinBooster"
   ]
  },
  {
   "cell_type": "markdown",
   "metadata": {},
   "source": [
    "## Usage"
   ]
  },
  {
   "cell_type": "code",
   "execution_count": 1,
   "metadata": {},
   "outputs": [],
   "source": [
    "import pandas as pd\n",
    "import twinbooster as tb"
   ]
  },
  {
   "cell_type": "code",
   "execution_count": 2,
   "metadata": {},
   "outputs": [
    {
     "name": "stderr",
     "output_type": "stream",
     "text": [
      "/home/schuh/miniconda3/envs/test_tb/lib/python3.8/site-packages/sklearn/base.py:348: InconsistentVersionWarning: Trying to unpickle estimator LabelEncoder from version 1.2.2 when using version 1.3.2. This might lead to breaking code or invalid results. Use at your own risk. For more info please refer to:\n",
      "https://scikit-learn.org/stable/model_persistence.html#security-maintainability-limitations\n",
      "  warnings.warn(\n"
     ]
    }
   ],
   "source": [
    "tb = tb.TwinBooster()"
   ]
  },
  {
   "cell_type": "markdown",
   "metadata": {},
   "source": [
    "Define molecules and bioassay-text pairs, to predict desired properties."
   ]
  },
  {
   "cell_type": "code",
   "execution_count": 3,
   "metadata": {},
   "outputs": [],
   "source": [
    "smiles = [\n",
    "    \"CC1=CC(=CC=C1)CS(=O)(=O)C2=NN=C(O2)[C@H](CC3=CC=CC=C3)NC(=O)OC(C)(C)C\",\n",
    "    \"CCC(C)(C)NC(=O)C(C1=CC=C(O1)C)N(CC2=CC=CS2)C(=O)CN3C4=CC=CC=C4N=N3\",\n",
    "    \"CC(C)(C)NC(=O)CSC1=NC(=CC(=O)N1)C2=CC=CC=C2\",\n",
    "    \"CCOC(=O)C1C2C=CC3(C1C(=O)N(C3)CC4=CC=CO4)O2\"\n",
    "]\n",
    "\n",
    "description = \"HTS for small molecule inhibitors of CHOP to regulate the unfolded protein response to ER stress. Many genetic and environmental diseases result from defective protein folding within the secretory pathway so that aberrantly folded proteins are recognized by the cellular surveillance system and retained within the endoplasmic reticulum (ER). Under conditions of malfolded protein accumulation, the cell activates the Unfolded Protein Response (UPR) to clear the malfolded proteins, and if unsuccessful, initiates a cell death response. Preliminary studies have shown that CHOP is a crucial factor in the apoptotic arm of the UPR; XBP1 activates genes encoding ER protein chaperones and thereby mediates the adaptive UPR response to increase clearance of malfolded proteins. Inhibition of CHOP is hypothesized to enhance survival by preventing UPR programmed cell death. There are currently no known small molecule CHOP inhibitors either for laboratory or clinical use.\""
   ]
  },
  {
   "cell_type": "code",
   "execution_count": 4,
   "metadata": {},
   "outputs": [
    {
     "data": {
      "text/html": [
       "<div>\n",
       "<style scoped>\n",
       "    .dataframe tbody tr th:only-of-type {\n",
       "        vertical-align: middle;\n",
       "    }\n",
       "\n",
       "    .dataframe tbody tr th {\n",
       "        vertical-align: top;\n",
       "    }\n",
       "\n",
       "    .dataframe thead th {\n",
       "        text-align: right;\n",
       "    }\n",
       "</style>\n",
       "<table border=\"1\" class=\"dataframe\">\n",
       "  <thead>\n",
       "    <tr style=\"text-align: right;\">\n",
       "      <th></th>\n",
       "      <th>SMILES</th>\n",
       "      <th>Prediction</th>\n",
       "      <th>Confidence</th>\n",
       "    </tr>\n",
       "  </thead>\n",
       "  <tbody>\n",
       "    <tr>\n",
       "      <th>0</th>\n",
       "      <td>C1=COC(=C1)CNC(=O)C2=CC=CS2</td>\n",
       "      <td>0.460087</td>\n",
       "      <td>0</td>\n",
       "    </tr>\n",
       "    <tr>\n",
       "      <th>1</th>\n",
       "      <td>CCC(C)(C)NC(=O)C(C1=CC=C(O1)C)N(CC2=CC=CS2)C(=...</td>\n",
       "      <td>0.411074</td>\n",
       "      <td>0</td>\n",
       "    </tr>\n",
       "    <tr>\n",
       "      <th>2</th>\n",
       "      <td>COCCCNC(=O)C1=CC2=C(C=C1)OCO2</td>\n",
       "      <td>0.484865</td>\n",
       "      <td>0</td>\n",
       "    </tr>\n",
       "    <tr>\n",
       "      <th>3</th>\n",
       "      <td>CCOC(=O)C1C2C=CC3(C1C(=O)N(C3)CC4=CC=CO4)O2</td>\n",
       "      <td>0.406081</td>\n",
       "      <td>0</td>\n",
       "    </tr>\n",
       "  </tbody>\n",
       "</table>\n",
       "</div>"
      ],
      "text/plain": [
       "                                              SMILES  Prediction  Confidence\n",
       "0                        C1=COC(=C1)CNC(=O)C2=CC=CS2    0.460087           0\n",
       "1  CCC(C)(C)NC(=O)C(C1=CC=C(O1)C)N(CC2=CC=CS2)C(=...    0.411074           0\n",
       "2                      COCCCNC(=O)C1=CC2=C(C=C1)OCO2    0.484865           0\n",
       "3        CCOC(=O)C1C2C=CC3(C1C(=O)N(C3)CC4=CC=CO4)O2    0.406081           0"
      ]
     },
     "execution_count": 4,
     "metadata": {},
     "output_type": "execute_result"
    }
   ],
   "source": [
    "pred, conf = tb.predict(smiles, description, get_confidence=True)\n",
    "df = pd.DataFrame({\"SMILES\": smiles, \"Prediction\": pred, \"Confidence\": conf})\n",
    "df"
   ]
  },
  {
   "cell_type": "code",
   "execution_count": null,
   "metadata": {},
   "outputs": [],
   "source": []
  }
 ],
 "metadata": {
  "kernelspec": {
   "display_name": "Python 3 (ipykernel)",
   "language": "python",
   "name": "python3"
  },
  "language_info": {
   "codemirror_mode": {
    "name": "ipython",
    "version": 3
   },
   "file_extension": ".py",
   "mimetype": "text/x-python",
   "name": "python",
   "nbconvert_exporter": "python",
   "pygments_lexer": "ipython3",
   "version": "3.8.18"
  }
 },
 "nbformat": 4,
 "nbformat_minor": 4
}
