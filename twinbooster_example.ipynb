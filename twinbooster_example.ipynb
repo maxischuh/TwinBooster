{
 "cells": [
  {
   "cell_type": "markdown",
   "metadata": {},
   "source": [
    "# TwinBooster\n",
    "\n",
    "## Installation"
   ]
  },
  {
   "cell_type": "code",
   "execution_count": null,
   "metadata": {},
   "outputs": [],
   "source": [
    "!pip install -e git+https://github.com/maxischuh/TwinBooster"
   ]
  },
  {
   "cell_type": "markdown",
   "metadata": {},
   "source": [
    "## Usage"
   ]
  },
  {
   "cell_type": "code",
   "execution_count": null,
   "metadata": {},
   "outputs": [],
   "source": [
    "import pandas as pd\n",
    "import twinbooster as tb"
   ]
  },
  {
   "cell_type": "code",
   "execution_count": null,
   "metadata": {},
   "outputs": [],
   "source": [
    "tb = tb.TwinBooster()"
   ]
  },
  {
   "cell_type": "markdown",
   "metadata": {},
   "source": [
    "Define molecules and bioassay-text pairs, to predict desired properties."
   ]
  },
  {
   "cell_type": "code",
   "execution_count": null,
   "metadata": {},
   "outputs": [],
   "source": [
    "smiles = [\n",
    "    \"C1=COC(=C1)CNC(=O)C2=CC=CS2\",\n",
    "    \"CCC(C)(C)NC(=O)C(C1=CC=C(O1)C)N(CC2=CC=CS2)C(=O)CN3C4=CC=CC=C4N=N3\",\n",
    "    \"COCCCNC(=O)C1=CC2=C(C=C1)OCO2\",\n",
    "    \"CCOC(=O)C1C2C=CC3(C1C(=O)N(C3)CC4=CC=CO4)O2\"\n",
    "]\n",
    "\n",
    "description = \"HTS for small molecule inhibitors of CHOP to regulate the unfolded protein response to ER stress. Many genetic and environmental diseases result from defective protein folding within the secretory pathway so that aberrantly folded proteins are recognized by the cellular surveillance system and retained within the endoplasmic reticulum (ER). Under conditions of malfolded protein accumulation, the cell activates the Unfolded Protein Response (UPR) to clear the malfolded proteins, and if unsuccessful, initiates a cell death response. Preliminary studies have shown that CHOP is a crucial factor in the apoptotic arm of the UPR; XBP1 activates genes encoding ER protein chaperones and thereby mediates the adaptive UPR response to increase clearance of malfolded proteins. Inhibition of CHOP is hypothesized to enhance survival by preventing UPR programmed cell death. There are currently no known small molecule CHOP inhibitors either for laboratory or clinical use.\""
   ]
  },
  {
   "cell_type": "code",
   "execution_count": null,
   "metadata": {},
   "outputs": [],
   "source": [
    "pred, conf = tb.predict(smiles, description, get_confidence=True)\n",
    "df = pd.DataFrame({\"SMILES\": smiles, \"Prediction\": pred, \"Confidence\": conf})\n",
    "df"
   ]
  }
 ],
 "metadata": {
  "kernelspec": {
   "display_name": "tox",
   "language": "python",
   "name": "tox"
  },
  "language_info": {
   "codemirror_mode": {
    "name": "ipython",
    "version": 3
   },
   "file_extension": ".py",
   "mimetype": "text/x-python",
   "name": "python",
   "nbconvert_exporter": "python",
   "pygments_lexer": "ipython3",
   "version": "3.8.10"
  }
 },
 "nbformat": 4,
 "nbformat_minor": 2
}
