{
 "cells": [
  {
   "cell_type": "markdown",
   "metadata": {},
   "source": [
    "# TwinBooster\n",
    "\n",
    "## Installation\n",
    "\n",
    "**Optional**\n",
    "\n",
    "Please make sure to provide a Python 3.8 environment. *Note:* For Google Colab you can execute the next block to go from Python 3.10 to 3.8."
   ]
  },
  {
   "cell_type": "code",
   "execution_count": null,
   "metadata": {},
   "outputs": [],
   "source": [
    "!apt-get update -y\n",
    "!apt-get install python3.8 python3.8-distutils\n",
    "!update-alternatives --install /usr/bin/python3 python3 /usr/bin/python3.8 1\n",
    "!update-alternatives --config python3\n",
    "!apt-get install python3-pip\n",
    "!python3 -m pip install --upgrade pip --user"
   ]
  },
  {
   "cell_type": "markdown",
   "metadata": {},
   "source": [
    "Execute this block to install TwinBooster."
   ]
  },
  {
   "cell_type": "code",
   "execution_count": null,
   "metadata": {},
   "outputs": [],
   "source": [
    "!pip install twinbooster"
   ]
  },
  {
   "cell_type": "markdown",
   "metadata": {},
   "source": [
    "## Usage"
   ]
  },
  {
   "cell_type": "code",
   "execution_count": null,
   "metadata": {},
   "outputs": [],
   "source": [
    "import pandas as pd\n",
    "import twinbooster"
   ]
  },
  {
   "cell_type": "markdown",
   "metadata": {},
   "source": [
    "Download the pretrained models and init TwinBooster"
   ]
  },
  {
   "cell_type": "code",
   "execution_count": null,
   "metadata": {},
   "outputs": [],
   "source": [
    "twinbooster.download_models()"
   ]
  },
  {
   "cell_type": "code",
   "execution_count": null,
   "metadata": {},
   "outputs": [],
   "source": [
    "tb = twinbooster.TwinBooster()"
   ]
  },
  {
   "cell_type": "markdown",
   "metadata": {},
   "source": [
    "Define molecules and SMILES-bioassay pairs, to predict desired properties."
   ]
  },
  {
   "cell_type": "code",
   "execution_count": null,
   "metadata": {},
   "outputs": [],
   "source": [
    "smiles = [\n",
    "    \"CC1=CC(=CC=C1)CS(=O)(=O)C2=NN=C(O2)[C@H](CC3=CC=CC=C3)NC(=O)OC(C)(C)C\",\n",
    "    \"CCC(C)(C)NC(=O)C(C1=CC=C(O1)C)N(CC2=CC=CS2)C(=O)CN3C4=CC=CC=C4N=N3\",\n",
    "    \"CC(C)(C)NC(=O)CSC1=NC(=CC(=O)N1)C2=CC=CC=C2\",\n",
    "    \"CCOC(=O)C1C2C=CC3(C1C(=O)N(C3)CC4=CC=CO4)O2\"\n",
    "]\n",
    "\n",
    "description = \"HTS for small molecule inhibitors of CHOP to regulate the unfolded protein response to ER stress. Many genetic and environmental diseases result from defective protein folding within the secretory pathway so that aberrantly folded proteins are recognized by the cellular surveillance system and retained within the endoplasmic reticulum (ER). Under conditions of malfolded protein accumulation, the cell activates the Unfolded Protein Response (UPR) to clear the malfolded proteins, and if unsuccessful, initiates a cell death response. Preliminary studies have shown that CHOP is a crucial factor in the apoptotic arm of the UPR; XBP1 activates genes encoding ER protein chaperones and thereby mediates the adaptive UPR response to increase clearance of malfolded proteins. Inhibition of CHOP is hypothesized to enhance survival by preventing UPR programmed cell death. There are currently no known small molecule CHOP inhibitors either for laboratory or clinical use.\""
   ]
  },
  {
   "cell_type": "code",
   "execution_count": null,
   "metadata": {},
   "outputs": [],
   "source": [
    "pred, conf = tb.predict(smiles, description, get_confidence=True)\n",
    "df = pd.DataFrame({\"SMILES\": smiles, \"Prediction\": pred, \"Confidence\": conf})"
   ]
  },
  {
   "cell_type": "code",
   "execution_count": null,
   "metadata": {},
   "outputs": [],
   "source": [
    "df"
   ]
  }
 ],
 "metadata": {
  "kernelspec": {
   "display_name": "Python 3 (ipykernel)",
   "language": "python",
   "name": "python3"
  },
  "language_info": {
   "codemirror_mode": {
    "name": "ipython",
    "version": 3
   },
   "file_extension": ".py",
   "mimetype": "text/x-python",
   "name": "python",
   "nbconvert_exporter": "python",
   "pygments_lexer": "ipython3",
   "version": "3.11.5"
  }
 },
 "nbformat": 4,
 "nbformat_minor": 4
}
